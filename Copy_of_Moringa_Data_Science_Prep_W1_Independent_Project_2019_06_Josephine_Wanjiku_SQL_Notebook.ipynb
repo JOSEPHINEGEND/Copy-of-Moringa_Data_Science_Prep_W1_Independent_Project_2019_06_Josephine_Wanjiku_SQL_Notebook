{
  "nbformat": 4,
  "nbformat_minor": 0,
  "metadata": {
    "colab": {
      "name": "Copy of Moringa_Data_Science_Prep_W1_Independent_Project_2019_06_Josephine_Wanjiku_SQL_Notebook",
      "version": "0.3.2",
      "provenance": [],
      "include_colab_link": true
    },
    "kernelspec": {
      "name": "python3",
      "display_name": "Python 3"
    }
  },
  "cells": [
    {
      "cell_type": "markdown",
      "metadata": {
        "id": "view-in-github",
        "colab_type": "text"
      },
      "source": [
        "<a href=\"https://colab.research.google.com/github/JOSEPHINEGEND/Copy-of-Moringa_Data_Science_Prep_W1_Independent_Project_2019_06_Josephine_Wanjiku_SQL_Notebook/blob/master/Copy_of_Moringa_Data_Science_Prep_W1_Independent_Project_2019_06_Josephine_Wanjiku_SQL_Notebook.ipynb\" target=\"_parent\"><img src=\"https://colab.research.google.com/assets/colab-badge.svg\" alt=\"Open In Colab\"/></a>"
      ]
    },
    {
      "cell_type": "code",
      "metadata": {
        "id": "f5mHDhXfdM22",
        "colab_type": "code",
        "outputId": "3ececcdf-ae3f-4512-c520-f5bec05428cf",
        "colab": {
          "base_uri": "https://localhost:8080/",
          "height": 67
        }
      },
      "source": [
        "# First I loaded the sql extention into our environment\n",
        "\n",
        "%load_ext sql\n",
        "\n",
        "# Then connect to our sqlite database memory\n",
        "\n",
        "%sql sqlite://\n",
        "  \n",
        "# Here am acting as a Data science consultant \n",
        "# I will answer questions posed \n",
        "# using the dataset collected by Dalberg.\n",
        "# the dataset entails crops grown in Uganda.\n"
      ],
      "execution_count": 0,
      "outputs": [
        {
          "output_type": "stream",
          "text": [
            "The sql extension is already loaded. To reload it, use:\n",
            "  %reload_ext sql\n"
          ],
          "name": "stdout"
        },
        {
          "output_type": "execute_result",
          "data": {
            "text/plain": [
              "'Connected: @None'"
            ]
          },
          "metadata": {
            "tags": []
          },
          "execution_count": 6
        }
      ]
    },
    {
      "cell_type": "code",
      "metadata": {
        "id": "3BMPW4A5ir3F",
        "colab_type": "code",
        "colab": {}
      },
      "source": [
        "# To view the dataset in csv I will import the csv libraries in python\n",
        "import csv"
      ],
      "execution_count": 0,
      "outputs": []
    },
    {
      "cell_type": "code",
      "metadata": {
        "id": "mcVFpEhojB4C",
        "colab_type": "code",
        "colab": {}
      },
      "source": [
        "# For data manipulation purposes I will also import pandas library\n",
        "import pandas as pd"
      ],
      "execution_count": 0,
      "outputs": []
    },
    {
      "cell_type": "code",
      "metadata": {
        "id": "Fo5mQ7lAjT9S",
        "colab_type": "code",
        "colab": {}
      },
      "source": [
        "# to upload the file\n",
        "\n",
        "with open('Uganda_Karamoja_Subcounty_Crop_Yield_Population.csv', 'r') as f:\n",
        "  Uganda_Karamoja_Subcounty_Crop_Yield_Population = pd.read_csv(f, index_col = 0, encoding= 'utf-8')\n",
        "  "
      ],
      "execution_count": 0,
      "outputs": []
    },
    {
      "cell_type": "code",
      "metadata": {
        "id": "rCdgqCxxmP0y",
        "colab_type": "code",
        "outputId": "44bb6e0f-4fd9-495f-aff4-594d8e7c4b40",
        "colab": {
          "base_uri": "https://localhost:8080/",
          "height": 84
        }
      },
      "source": [
        "# next step is to drop the existing table similar to one in the current sqlite environment\n",
        "\n",
        "%sql DROP TABLE if EXISTS Uganda_Karamoja_Subcounty_Crop_Yield_Population;\n",
        "%sql PERSIST Uganda_Karamoja_Subcounty_Crop_Yield_Population;"
      ],
      "execution_count": 0,
      "outputs": [
        {
          "output_type": "stream",
          "text": [
            " * sqlite://\n",
            "Done.\n",
            " * sqlite://\n"
          ],
          "name": "stdout"
        },
        {
          "output_type": "execute_result",
          "data": {
            "text/plain": [
              "'Persisted uganda_karamoja_subcounty_crop_yield_population'"
            ]
          },
          "metadata": {
            "tags": []
          },
          "execution_count": 12
        }
      ]
    },
    {
      "cell_type": "code",
      "metadata": {
        "id": "sgCno9NynheT",
        "colab_type": "code",
        "outputId": "c8cdb939-9328-46d1-d1f5-51f087e0a228",
        "colab": {
          "base_uri": "https://localhost:8080/",
          "height": 229
        }
      },
      "source": [
        "# a preview of the table limit 6\n",
        "%%sql\n",
        "SELECT * FROM Uganda_Karamoja_Subcounty_Crop_Yield_Population limit 6\n",
        "\n",
        "\n",
        "\n"
      ],
      "execution_count": 0,
      "outputs": [
        {
          "output_type": "stream",
          "text": [
            " * sqlite://\n",
            "Done.\n"
          ],
          "name": "stdout"
        },
        {
          "output_type": "execute_result",
          "data": {
            "text/html": [
              "<table>\n",
              "    <tr>\n",
              "        <th>OBJECTID</th>\n",
              "        <th>SUBCOUNTY_NAME</th>\n",
              "        <th>DISTRICT_NAME</th>\n",
              "        <th>POP</th>\n",
              "        <th>Area</th>\n",
              "        <th>Karamoja</th>\n",
              "        <th>S_Yield_Ha</th>\n",
              "        <th>M_Yield_Ha</th>\n",
              "        <th>Crop_Area_Ha</th>\n",
              "        <th>S_Area_Ha</th>\n",
              "        <th>M_Area_Ha</th>\n",
              "        <th>S_Prod_Tot</th>\n",
              "        <th>M_Prod_Tot</th>\n",
              "    </tr>\n",
              "    <tr>\n",
              "        <td>263</td>\n",
              "        <td>KACHERI</td>\n",
              "        <td>KOTIDO</td>\n",
              "        <td>17244</td>\n",
              "        <td>1067176155</td>\n",
              "        <td>Y</td>\n",
              "        <td>354.20741069999997</td>\n",
              "        <td>1137.467019</td>\n",
              "        <td>7023.533691</td>\n",
              "        <td>6434.342449</td>\n",
              "        <td>528.1242294</td>\n",
              "        <td>2279091.779</td>\n",
              "        <td>600723.8929</td>\n",
              "    </tr>\n",
              "    <tr>\n",
              "        <td>264</td>\n",
              "        <td>KOTIDO</td>\n",
              "        <td>KOTIDO</td>\n",
              "        <td>52771</td>\n",
              "        <td>597575188</td>\n",
              "        <td>Y</td>\n",
              "        <td>367.89052319999996</td>\n",
              "        <td>1162.9966869999998</td>\n",
              "        <td>13587.990759999999</td>\n",
              "        <td>12455.59264</td>\n",
              "        <td>824.7670809</td>\n",
              "        <td>4582294.492</td>\n",
              "        <td>959201.3825</td>\n",
              "    </tr>\n",
              "    <tr>\n",
              "        <td>265</td>\n",
              "        <td>KOTIDO TOWN COUNCIL</td>\n",
              "        <td>KOTIDO</td>\n",
              "        <td>27389</td>\n",
              "        <td>23972401</td>\n",
              "        <td>Y</td>\n",
              "        <td>369.3141771</td>\n",
              "        <td>1167.005832</td>\n",
              "        <td>1656.5318550000002</td>\n",
              "        <td>1520.322052</td>\n",
              "        <td>8.561643817</td>\n",
              "        <td>561476.4874</td>\n",
              "        <td>9991.488268000001</td>\n",
              "    </tr>\n",
              "    <tr>\n",
              "        <td>266</td>\n",
              "        <td>NAKAPERIMORU</td>\n",
              "        <td>KOTIDO</td>\n",
              "        <td>38775</td>\n",
              "        <td>419111591</td>\n",
              "        <td>Y</td>\n",
              "        <td>283.3245689</td>\n",
              "        <td>852.3665784</td>\n",
              "        <td>7087.823334000001</td>\n",
              "        <td>6761.488901000001</td>\n",
              "        <td>45.72171184</td>\n",
              "        <td>1915695.928</td>\n",
              "        <td>38971.65908</td>\n",
              "    </tr>\n",
              "    <tr>\n",
              "        <td>267</td>\n",
              "        <td>PANYANGARA</td>\n",
              "        <td>KOTIDO</td>\n",
              "        <td>65704</td>\n",
              "        <td>880955930</td>\n",
              "        <td>Y</td>\n",
              "        <td>373.8369255</td>\n",
              "        <td>1283.859882</td>\n",
              "        <td>10398.24939</td>\n",
              "        <td>10111.198129999999</td>\n",
              "        <td>172.6119139</td>\n",
              "        <td>3779939.224</td>\n",
              "        <td>221609.5114</td>\n",
              "    </tr>\n",
              "    <tr>\n",
              "        <td>268</td>\n",
              "        <td>RENGEN</td>\n",
              "        <td>KOTIDO</td>\n",
              "        <td>41273</td>\n",
              "        <td>652744859</td>\n",
              "        <td>Y</td>\n",
              "        <td>271.18584310000006</td>\n",
              "        <td>1047.180128</td>\n",
              "        <td>13278.52043</td>\n",
              "        <td>12964.49973</td>\n",
              "        <td>171.5857036</td>\n",
              "        <td>3515788.789</td>\n",
              "        <td>179681.139</td>\n",
              "    </tr>\n",
              "</table>"
            ],
            "text/plain": [
              "[(263, 'KACHERI', 'KOTIDO', 17244, 1067176155, 'Y', 354.20741069999997, 1137.467019, 7023.533691, 6434.342449, 528.1242294, 2279091.779, 600723.8929),\n",
              " (264, 'KOTIDO', 'KOTIDO', 52771, 597575188, 'Y', 367.89052319999996, 1162.9966869999998, 13587.990759999999, 12455.59264, 824.7670809, 4582294.492, 959201.3825),\n",
              " (265, 'KOTIDO TOWN COUNCIL', 'KOTIDO', 27389, 23972401, 'Y', 369.3141771, 1167.005832, 1656.5318550000002, 1520.322052, 8.561643817, 561476.4874, 9991.488268000001),\n",
              " (266, 'NAKAPERIMORU', 'KOTIDO', 38775, 419111591, 'Y', 283.3245689, 852.3665784, 7087.823334000001, 6761.488901000001, 45.72171184, 1915695.928, 38971.65908),\n",
              " (267, 'PANYANGARA', 'KOTIDO', 65704, 880955930, 'Y', 373.8369255, 1283.859882, 10398.24939, 10111.198129999999, 172.6119139, 3779939.224, 221609.5114),\n",
              " (268, 'RENGEN', 'KOTIDO', 41273, 652744859, 'Y', 271.18584310000006, 1047.180128, 13278.52043, 12964.49973, 171.5857036, 3515788.789, 179681.139)]"
            ]
          },
          "metadata": {
            "tags": []
          },
          "execution_count": 21
        }
      ]
    },
    {
      "cell_type": "code",
      "metadata": {
        "id": "ISaypVmnnLqr",
        "colab_type": "code",
        "outputId": "877f8f60-942e-431e-da23-f1f4b1dcf0b1",
        "colab": {
          "base_uri": "https://localhost:8080/",
          "height": 152
        }
      },
      "source": [
        "# Generating list of Sub Counties and their population and areas limit 4 \n",
        "\n",
        "%%sql\n",
        "SELECT SUBCOUNTY_NAME, POP, Area from Uganda_Karamoja_Subcounty_Crop_Yield_Population limit 4\n",
        "\n"
      ],
      "execution_count": 0,
      "outputs": [
        {
          "output_type": "stream",
          "text": [
            " * sqlite://\n",
            "Done.\n"
          ],
          "name": "stdout"
        },
        {
          "output_type": "execute_result",
          "data": {
            "text/html": [
              "<table>\n",
              "    <tr>\n",
              "        <th>SUBCOUNTY_NAME</th>\n",
              "        <th>POP</th>\n",
              "        <th>Area</th>\n",
              "    </tr>\n",
              "    <tr>\n",
              "        <td>KACHERI</td>\n",
              "        <td>17244</td>\n",
              "        <td>1067176155</td>\n",
              "    </tr>\n",
              "    <tr>\n",
              "        <td>KOTIDO</td>\n",
              "        <td>52771</td>\n",
              "        <td>597575188</td>\n",
              "    </tr>\n",
              "    <tr>\n",
              "        <td>KOTIDO TOWN COUNCIL</td>\n",
              "        <td>27389</td>\n",
              "        <td>23972401</td>\n",
              "    </tr>\n",
              "    <tr>\n",
              "        <td>NAKAPERIMORU</td>\n",
              "        <td>38775</td>\n",
              "        <td>419111591</td>\n",
              "    </tr>\n",
              "</table>"
            ],
            "text/plain": [
              "[('KACHERI', 17244, 1067176155),\n",
              " ('KOTIDO', 52771, 597575188),\n",
              " ('KOTIDO TOWN COUNCIL', 27389, 23972401),\n",
              " ('NAKAPERIMORU', 38775, 419111591)]"
            ]
          },
          "metadata": {
            "tags": []
          },
          "execution_count": 62
        }
      ]
    },
    {
      "cell_type": "code",
      "metadata": {
        "id": "aR5Ls2URpRVE",
        "colab_type": "code",
        "outputId": "4b01d136-d73a-4431-855e-61dc3c75e40f",
        "colab": {
          "base_uri": "https://localhost:8080/",
          "height": 272
        }
      },
      "source": [
        "# Here am sorting the list of districts by total crop area (descending order)\n",
        "# limit 10 entries \n",
        "%%sql\n",
        "SELECT DISTRICT_NAME from Uganda_Karamoja_Subcounty_Crop_Yield_Population\n",
        "ORDER BY Crop_Area_Ha\tDESC limit 10"
      ],
      "execution_count": 0,
      "outputs": [
        {
          "output_type": "stream",
          "text": [
            " * sqlite://\n",
            "Done.\n"
          ],
          "name": "stdout"
        },
        {
          "output_type": "execute_result",
          "data": {
            "text/html": [
              "<table>\n",
              "    <tr>\n",
              "        <th>DISTRICT_NAME</th>\n",
              "    </tr>\n",
              "    <tr>\n",
              "        <td>KOTIDO</td>\n",
              "    </tr>\n",
              "    <tr>\n",
              "        <td>KOTIDO</td>\n",
              "    </tr>\n",
              "    <tr>\n",
              "        <td>KOTIDO</td>\n",
              "    </tr>\n",
              "    <tr>\n",
              "        <td>KOTIDO</td>\n",
              "    </tr>\n",
              "    <tr>\n",
              "        <td>KOTIDO</td>\n",
              "    </tr>\n",
              "    <tr>\n",
              "        <td>KAABONG</td>\n",
              "    </tr>\n",
              "    <tr>\n",
              "        <td>NAPAK</td>\n",
              "    </tr>\n",
              "    <tr>\n",
              "        <td>NAKAPIRIPIRIT</td>\n",
              "    </tr>\n",
              "    <tr>\n",
              "        <td>NAKAPIRIPIRIT</td>\n",
              "    </tr>\n",
              "    <tr>\n",
              "        <td>NAPAK</td>\n",
              "    </tr>\n",
              "</table>"
            ],
            "text/plain": [
              "[('KOTIDO',),\n",
              " ('KOTIDO',),\n",
              " ('KOTIDO',),\n",
              " ('KOTIDO',),\n",
              " ('KOTIDO',),\n",
              " ('KAABONG',),\n",
              " ('NAPAK',),\n",
              " ('NAKAPIRIPIRIT',),\n",
              " ('NAKAPIRIPIRIT',),\n",
              " ('NAPAK',)]"
            ]
          },
          "metadata": {
            "tags": []
          },
          "execution_count": 19
        }
      ]
    },
    {
      "cell_type": "code",
      "metadata": {
        "id": "HkX-akR0rfBF",
        "colab_type": "code",
        "outputId": "df79c97b-ee7f-4d32-d386-2a43fa674d0b",
        "colab": {
          "base_uri": "https://localhost:8080/",
          "height": 192
        }
      },
      "source": [
        "# Select only the Sub counties from the Moroto district, order them alphabetically and show their production of sorghum\n",
        "\n",
        "# here I want to select sub counties, then I need to show their production of sorghum\n",
        "# BUT only those from Moroto district and \n",
        "# Then Order them alphabetically\n",
        "# \n",
        "\n",
        "%%sql\n",
        "SELECT SUBCOUNTY_NAME, S_Prod_Tot\tfrom Uganda_Karamoja_Subcounty_Crop_Yield_Population\n",
        "WHERE DISTRICT_NAME = \"MOROTO\" \n",
        "ORDER BY SUBCOUNTY_NAME ASC\n",
        "\n"
      ],
      "execution_count": 0,
      "outputs": [
        {
          "output_type": "stream",
          "text": [
            " * sqlite://\n",
            "Done.\n"
          ],
          "name": "stdout"
        },
        {
          "output_type": "execute_result",
          "data": {
            "text/html": [
              "<table>\n",
              "    <tr>\n",
              "        <th>SUBCOUNTY_NAME</th>\n",
              "        <th>S_Prod_Tot</th>\n",
              "    </tr>\n",
              "    <tr>\n",
              "        <td>KATIKEKILE</td>\n",
              "        <td>9379.029413</td>\n",
              "    </tr>\n",
              "    <tr>\n",
              "        <td>NADUNGET</td>\n",
              "        <td>321630.539</td>\n",
              "    </tr>\n",
              "    <tr>\n",
              "        <td>NORTHERN DIVISION</td>\n",
              "        <td>17.28125956</td>\n",
              "    </tr>\n",
              "    <tr>\n",
              "        <td>RUPA</td>\n",
              "        <td>227298.5184</td>\n",
              "    </tr>\n",
              "    <tr>\n",
              "        <td>SOUTHERN DIVISION</td>\n",
              "        <td>19.67486547</td>\n",
              "    </tr>\n",
              "    <tr>\n",
              "        <td>TAPAC</td>\n",
              "        <td>49251.66081</td>\n",
              "    </tr>\n",
              "</table>"
            ],
            "text/plain": [
              "[('KATIKEKILE', 9379.029413),\n",
              " ('NADUNGET', 321630.539),\n",
              " ('NORTHERN DIVISION', 17.28125956),\n",
              " ('RUPA', 227298.5184),\n",
              " ('SOUTHERN DIVISION', 19.67486547),\n",
              " ('TAPAC', 49251.66081)]"
            ]
          },
          "metadata": {
            "tags": []
          },
          "execution_count": 30
        }
      ]
    },
    {
      "cell_type": "code",
      "metadata": {
        "id": "z1oNbHWE2kGF",
        "colab_type": "code",
        "outputId": "2c73c0ee-0163-4590-87dd-c87cff5e2963",
        "colab": {
          "base_uri": "https://localhost:8080/",
          "height": 212
        }
      },
      "source": [
        "# Compute the total Maize production per District\n",
        "\n",
        "# here I selected the total maize production per district\n",
        "# limit 7\n",
        "\n",
        "%%sql\n",
        "SELECT DISTRICT_NAME, SUM(M_Prod_Tot) FROM Uganda_Karamoja_Subcounty_Crop_Yield_Population\n",
        "GROUP BY DISTRICT_NAME\n",
        "\n"
      ],
      "execution_count": 0,
      "outputs": [
        {
          "output_type": "stream",
          "text": [
            " * sqlite://\n",
            "Done.\n"
          ],
          "name": "stdout"
        },
        {
          "output_type": "execute_result",
          "data": {
            "text/html": [
              "<table>\n",
              "    <tr>\n",
              "        <th>DISTRICT_NAME</th>\n",
              "        <th>SUM(M_Prod_Tot)</th>\n",
              "    </tr>\n",
              "    <tr>\n",
              "        <td>ABIM</td>\n",
              "        <td>1922133.1297</td>\n",
              "    </tr>\n",
              "    <tr>\n",
              "        <td>AMUDAT</td>\n",
              "        <td>3546469.3324990002</td>\n",
              "    </tr>\n",
              "    <tr>\n",
              "        <td>KAABONG</td>\n",
              "        <td>6990361.6143000005</td>\n",
              "    </tr>\n",
              "    <tr>\n",
              "        <td>KOTIDO</td>\n",
              "        <td>2010179.0731479998</td>\n",
              "    </tr>\n",
              "    <tr>\n",
              "        <td>MOROTO</td>\n",
              "        <td>422116.06882464996</td>\n",
              "    </tr>\n",
              "    <tr>\n",
              "        <td>NAKAPIRIPIRIT</td>\n",
              "        <td>8125156.24546</td>\n",
              "    </tr>\n",
              "    <tr>\n",
              "        <td>NAPAK</td>\n",
              "        <td>5587379.38888</td>\n",
              "    </tr>\n",
              "</table>"
            ],
            "text/plain": [
              "[('ABIM', 1922133.1297),\n",
              " ('AMUDAT', 3546469.3324990002),\n",
              " ('KAABONG', 6990361.6143000005),\n",
              " ('KOTIDO', 2010179.0731479998),\n",
              " ('MOROTO', 422116.06882464996),\n",
              " ('NAKAPIRIPIRIT', 8125156.24546),\n",
              " ('NAPAK', 5587379.38888)]"
            ]
          },
          "metadata": {
            "tags": []
          },
          "execution_count": 84
        }
      ]
    },
    {
      "cell_type": "code",
      "metadata": {
        "id": "jfc7M5AxFEvY",
        "colab_type": "code",
        "outputId": "dbbf510d-8bad-4b67-c20b-b9c26fc49f52",
        "colab": {
          "base_uri": "https://localhost:8080/",
          "height": 92
        }
      },
      "source": [
        "# QUESTION: Compute the number of Sub counties where Maize is produced and the total Maize production per District. \n",
        "  \n",
        "# to calculate the number of sub counties where maize is produced\n",
        "\n",
        "%%sql\n",
        "SELECT count(SUBCOUNTY_NAME) FROM Uganda_Karamoja_Subcounty_Crop_Yield_Population\n",
        "WHERE M_Prod_Tot is NOT NULL\n",
        " \n",
        "   "
      ],
      "execution_count": 0,
      "outputs": [
        {
          "output_type": "stream",
          "text": [
            " * sqlite://\n",
            "Done.\n"
          ],
          "name": "stdout"
        },
        {
          "output_type": "execute_result",
          "data": {
            "text/html": [
              "<table>\n",
              "    <tr>\n",
              "        <th>count(SUBCOUNTY_NAME)</th>\n",
              "    </tr>\n",
              "    <tr>\n",
              "        <td>52</td>\n",
              "    </tr>\n",
              "</table>"
            ],
            "text/plain": [
              "[(52,)]"
            ]
          },
          "metadata": {
            "tags": []
          },
          "execution_count": 87
        }
      ]
    },
    {
      "cell_type": "code",
      "metadata": {
        "id": "9tL_7IRNH42e",
        "colab_type": "code",
        "outputId": "6671e48a-67d9-4861-d35c-9dd050893d03",
        "colab": {
          "base_uri": "https://localhost:8080/",
          "height": 212
        }
      },
      "source": [
        "# Computing the total maize production per district\n",
        "\n",
        "%%sql\n",
        "SELECT DISTRICT_NAME, SUM(M_Prod_Tot) FROM Uganda_Karamoja_Subcounty_Crop_Yield_Population\n",
        "GROUP BY DISTRICT_NAME\n"
      ],
      "execution_count": 0,
      "outputs": [
        {
          "output_type": "stream",
          "text": [
            " * sqlite://\n",
            "Done.\n"
          ],
          "name": "stdout"
        },
        {
          "output_type": "execute_result",
          "data": {
            "text/html": [
              "<table>\n",
              "    <tr>\n",
              "        <th>DISTRICT_NAME</th>\n",
              "        <th>SUM(M_Prod_Tot)</th>\n",
              "    </tr>\n",
              "    <tr>\n",
              "        <td>ABIM</td>\n",
              "        <td>1922133.1297</td>\n",
              "    </tr>\n",
              "    <tr>\n",
              "        <td>AMUDAT</td>\n",
              "        <td>3546469.3324990002</td>\n",
              "    </tr>\n",
              "    <tr>\n",
              "        <td>KAABONG</td>\n",
              "        <td>6990361.6143000005</td>\n",
              "    </tr>\n",
              "    <tr>\n",
              "        <td>KOTIDO</td>\n",
              "        <td>2010179.0731479998</td>\n",
              "    </tr>\n",
              "    <tr>\n",
              "        <td>MOROTO</td>\n",
              "        <td>422116.06882464996</td>\n",
              "    </tr>\n",
              "    <tr>\n",
              "        <td>NAKAPIRIPIRIT</td>\n",
              "        <td>8125156.24546</td>\n",
              "    </tr>\n",
              "    <tr>\n",
              "        <td>NAPAK</td>\n",
              "        <td>5587379.38888</td>\n",
              "    </tr>\n",
              "</table>"
            ],
            "text/plain": [
              "[('ABIM', 1922133.1297),\n",
              " ('AMUDAT', 3546469.3324990002),\n",
              " ('KAABONG', 6990361.6143000005),\n",
              " ('KOTIDO', 2010179.0731479998),\n",
              " ('MOROTO', 422116.06882464996),\n",
              " ('NAKAPIRIPIRIT', 8125156.24546),\n",
              " ('NAPAK', 5587379.38888)]"
            ]
          },
          "metadata": {
            "tags": []
          },
          "execution_count": 88
        }
      ]
    },
    {
      "cell_type": "code",
      "metadata": {
        "id": "VE3gFmJ1Kfqp",
        "colab_type": "code",
        "outputId": "9e0a07d7-1728-4500-ad98-febad18338ac",
        "colab": {
          "base_uri": "https://localhost:8080/",
          "height": 712
        }
      },
      "source": [
        "# Compute the overall Crop area in all Sub counties where population is over 20000.\n",
        "%%sql\n",
        "SELECT SUBCOUNTY_NAME, SUM(Crop_Area_Ha) from Uganda_Karamoja_Subcounty_Crop_Yield_Population\n",
        "where POP > 20000 \n",
        "GROUP BY SUBCOUNTY_NAME "
      ],
      "execution_count": 0,
      "outputs": [
        {
          "output_type": "stream",
          "text": [
            " * sqlite://\n",
            "Done.\n"
          ],
          "name": "stdout"
        },
        {
          "output_type": "execute_result",
          "data": {
            "text/html": [
              "<table>\n",
              "    <tr>\n",
              "        <th>SUBCOUNTY_NAME</th>\n",
              "        <th>SUM(Crop_Area_Ha)</th>\n",
              "    </tr>\n",
              "    <tr>\n",
              "        <td>AMUDAT</td>\n",
              "        <td>1651.99842</td>\n",
              "    </tr>\n",
              "    <tr>\n",
              "        <td>IRIIRI</td>\n",
              "        <td>5473.443674</td>\n",
              "    </tr>\n",
              "    <tr>\n",
              "        <td>KAABONG  EAST</td>\n",
              "        <td>1021.31699</td>\n",
              "    </tr>\n",
              "    <tr>\n",
              "        <td>KAABONG TOWN COUNCIL</td>\n",
              "        <td>175.08052659999998</td>\n",
              "    </tr>\n",
              "    <tr>\n",
              "        <td>KAABONG WEST</td>\n",
              "        <td>967.3367266</td>\n",
              "    </tr>\n",
              "    <tr>\n",
              "        <td>KALAPATA</td>\n",
              "        <td>2834.349905</td>\n",
              "    </tr>\n",
              "    <tr>\n",
              "        <td>KAMION</td>\n",
              "        <td>997.1610206</td>\n",
              "    </tr>\n",
              "    <tr>\n",
              "        <td>KAPEDO</td>\n",
              "        <td>2365.259806</td>\n",
              "    </tr>\n",
              "    <tr>\n",
              "        <td>KARITA</td>\n",
              "        <td>2513.27183</td>\n",
              "    </tr>\n",
              "    <tr>\n",
              "        <td>KATHILE</td>\n",
              "        <td>6890.699234000001</td>\n",
              "    </tr>\n",
              "    <tr>\n",
              "        <td>KAWALAKOL</td>\n",
              "        <td>3934.432233</td>\n",
              "    </tr>\n",
              "    <tr>\n",
              "        <td>KOTIDO</td>\n",
              "        <td>13587.990759999999</td>\n",
              "    </tr>\n",
              "    <tr>\n",
              "        <td>KOTIDO TOWN COUNCIL</td>\n",
              "        <td>1656.5318550000002</td>\n",
              "    </tr>\n",
              "    <tr>\n",
              "        <td>LOBALANGIT</td>\n",
              "        <td>1890.248613</td>\n",
              "    </tr>\n",
              "    <tr>\n",
              "        <td>LODIKO</td>\n",
              "        <td>401.7978207</td>\n",
              "    </tr>\n",
              "    <tr>\n",
              "        <td>LOKOPO</td>\n",
              "        <td>6471.047334000001</td>\n",
              "    </tr>\n",
              "    <tr>\n",
              "        <td>LOLACHAT</td>\n",
              "        <td>5079.779088</td>\n",
              "    </tr>\n",
              "    <tr>\n",
              "        <td>LOLELIA</td>\n",
              "        <td>2700.676313</td>\n",
              "    </tr>\n",
              "    <tr>\n",
              "        <td>LOREGAE</td>\n",
              "        <td>5759.618906000001</td>\n",
              "    </tr>\n",
              "    <tr>\n",
              "        <td>LOROO</td>\n",
              "        <td>1539.401382</td>\n",
              "    </tr>\n",
              "    <tr>\n",
              "        <td>MATANY</td>\n",
              "        <td>2990.847377</td>\n",
              "    </tr>\n",
              "    <tr>\n",
              "        <td>NABILATUK</td>\n",
              "        <td>3276.653762</td>\n",
              "    </tr>\n",
              "    <tr>\n",
              "        <td>NADUNGET</td>\n",
              "        <td>2480.1219</td>\n",
              "    </tr>\n",
              "    <tr>\n",
              "        <td>NAKAPERIMORU</td>\n",
              "        <td>7087.823334000001</td>\n",
              "    </tr>\n",
              "    <tr>\n",
              "        <td>NAMALU</td>\n",
              "        <td>5793.5076229999995</td>\n",
              "    </tr>\n",
              "    <tr>\n",
              "        <td>NAPORE (KARENGA)</td>\n",
              "        <td>1494.047587</td>\n",
              "    </tr>\n",
              "    <tr>\n",
              "        <td>NGOLERIET</td>\n",
              "        <td>1215.227445</td>\n",
              "    </tr>\n",
              "    <tr>\n",
              "        <td>PANYANGARA</td>\n",
              "        <td>10398.24939</td>\n",
              "    </tr>\n",
              "    <tr>\n",
              "        <td>RENGEN</td>\n",
              "        <td>13278.52043</td>\n",
              "    </tr>\n",
              "    <tr>\n",
              "        <td>RUPA</td>\n",
              "        <td>2217.2907170000003</td>\n",
              "    </tr>\n",
              "    <tr>\n",
              "        <td>SIDOK</td>\n",
              "        <td>957.4939457999999</td>\n",
              "    </tr>\n",
              "    <tr>\n",
              "        <td>TAPAC</td>\n",
              "        <td>1111.664207</td>\n",
              "    </tr>\n",
              "</table>"
            ],
            "text/plain": [
              "[('AMUDAT', 1651.99842),\n",
              " ('IRIIRI', 5473.443674),\n",
              " ('KAABONG  EAST', 1021.31699),\n",
              " ('KAABONG TOWN COUNCIL', 175.08052659999998),\n",
              " ('KAABONG WEST', 967.3367266),\n",
              " ('KALAPATA', 2834.349905),\n",
              " ('KAMION', 997.1610206),\n",
              " ('KAPEDO', 2365.259806),\n",
              " ('KARITA', 2513.27183),\n",
              " ('KATHILE', 6890.699234000001),\n",
              " ('KAWALAKOL', 3934.432233),\n",
              " ('KOTIDO', 13587.990759999999),\n",
              " ('KOTIDO TOWN COUNCIL', 1656.5318550000002),\n",
              " ('LOBALANGIT', 1890.248613),\n",
              " ('LODIKO', 401.7978207),\n",
              " ('LOKOPO', 6471.047334000001),\n",
              " ('LOLACHAT', 5079.779088),\n",
              " ('LOLELIA', 2700.676313),\n",
              " ('LOREGAE', 5759.618906000001),\n",
              " ('LOROO', 1539.401382),\n",
              " ('MATANY', 2990.847377),\n",
              " ('NABILATUK', 3276.653762),\n",
              " ('NADUNGET', 2480.1219),\n",
              " ('NAKAPERIMORU', 7087.823334000001),\n",
              " ('NAMALU', 5793.5076229999995),\n",
              " ('NAPORE (KARENGA)', 1494.047587),\n",
              " ('NGOLERIET', 1215.227445),\n",
              " ('PANYANGARA', 10398.24939),\n",
              " ('RENGEN', 13278.52043),\n",
              " ('RUPA', 2217.2907170000003),\n",
              " ('SIDOK', 957.4939457999999),\n",
              " ('TAPAC', 1111.664207)]"
            ]
          },
          "metadata": {
            "tags": []
          },
          "execution_count": 92
        }
      ]
    },
    {
      "cell_type": "code",
      "metadata": {
        "id": "_yIiZY02NxWa",
        "colab_type": "code",
        "outputId": "d1d06a74-eba9-4fa0-9326-0fe3bd4d12b1",
        "colab": {
          "base_uri": "https://localhost:8080/",
          "height": 172
        }
      },
      "source": [
        "# Sort the Maize production in descending order by Districts,\n",
        "# only taking into account Sub counties where Maize area is larger than Sorghum area, \n",
        "# and display the number of Sub counties per district matching that criteria.\n",
        "\n",
        "%%sql\n",
        "SELECT SUBCOUNTY_NAME M_Prod_Tot, COUNT(SUBCOUNTY_NAME) from Uganda_Karamoja_Subcounty_Crop_Yield_Population\n",
        "WHERE M_Area_Ha > S_Area_Ha\n",
        "GROUP BY DISTRICT_NAME\n",
        "ORDER BY DISTRICT_NAME DESC"
      ],
      "execution_count": 0,
      "outputs": [
        {
          "output_type": "stream",
          "text": [
            " * sqlite://\n",
            "Done.\n"
          ],
          "name": "stdout"
        },
        {
          "output_type": "execute_result",
          "data": {
            "text/html": [
              "<table>\n",
              "    <tr>\n",
              "        <th>M_Prod_Tot</th>\n",
              "        <th>COUNT(SUBCOUNTY_NAME)</th>\n",
              "    </tr>\n",
              "    <tr>\n",
              "        <td>NAPAK TOWN COUNCIL</td>\n",
              "        <td>2</td>\n",
              "    </tr>\n",
              "    <tr>\n",
              "        <td>MORUITA</td>\n",
              "        <td>3</td>\n",
              "    </tr>\n",
              "    <tr>\n",
              "        <td>NORTHERN DIVISION</td>\n",
              "        <td>3</td>\n",
              "    </tr>\n",
              "    <tr>\n",
              "        <td>NAPORE (KARENGA)</td>\n",
              "        <td>3</td>\n",
              "    </tr>\n",
              "    <tr>\n",
              "        <td>AMUDAT</td>\n",
              "        <td>1</td>\n",
              "    </tr>\n",
              "</table>"
            ],
            "text/plain": [
              "[('NAPAK TOWN COUNCIL', 2),\n",
              " ('MORUITA', 3),\n",
              " ('NORTHERN DIVISION', 3),\n",
              " ('NAPORE (KARENGA)', 3),\n",
              " ('AMUDAT', 1)]"
            ]
          },
          "metadata": {
            "tags": []
          },
          "execution_count": 99
        }
      ]
    }
  ]
}